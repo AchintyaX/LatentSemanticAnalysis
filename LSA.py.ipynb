{
 "cells": [
  {
   "cell_type": "code",
   "execution_count": 1,
   "metadata": {},
   "outputs": [],
   "source": [
    "# importing the necessary libraries \n",
    "import nltk\n",
    "import numpy as np\n",
    "import matplotlib.pyplot as plt\n",
    "\n",
    "# we would be needing the lemmatizer \n",
    "from nltk.stem import WordNetLemmatizer\n",
    "from sklearn.decomposition import TruncatedSVD"
   ]
  },
  {
   "cell_type": "code",
   "execution_count": 3,
   "metadata": {},
   "outputs": [],
   "source": [
    "# setting up all our variables \n",
    "\n",
    "wordnet_lemmatizer = WordNetLemmatizer()\n",
    "titles = [line.rstrip() for line in open('all_book_titles.txt')]\n",
    "# we would be removing certain stopwords that we don't need in our data\n",
    "stopwords = set(w.rstrip() for w in open('stopwords.txt'))\n",
    "stopwords = stopwords.union({\n",
    "    'introduction', 'edition', 'series', 'application','approach',\n",
    "    'card', 'access', 'package', 'plus', 'etext', 'breif', 'vol',\n",
    "    'fundamental', 'guide', 'essential', 'printed', 'third', 'second', 'fourth',\n",
    "})"
   ]
  },
  {
   "cell_type": "code",
   "execution_count": 5,
   "metadata": {},
   "outputs": [],
   "source": [
    "# defining our tokenizer \n",
    "\n",
    "def my_tokenizer(s):\n",
    "    s = s.lower() # downcase\n",
    "    tokens = nltk.tokenize.word_tokenize(s) #split the string inot words (tokens)\n",
    "    tokens = [t for t in tokens if len(t)>2] # remove words shorter than 2, cause probably they are useless\n",
    "    tokens = [wordnet_lemmatizer.lemmatize(t) for t in tokens ] # put the words into base form\n",
    "    tokens = [t for t in tokens if t not in stopwords] # remove the stopwords \n",
    "    tokens = [t for t in tokens if not any(c.isdigit() for c in t)]\n",
    "    return tokens \n"
   ]
  },
  {
   "cell_type": "code",
   "execution_count": null,
   "metadata": {},
   "outputs": [],
   "source": []
  }
 ],
 "metadata": {
  "kernelspec": {
   "display_name": "Python 3",
   "language": "python",
   "name": "python3"
  },
  "language_info": {
   "codemirror_mode": {
    "name": "ipython",
    "version": 3
   },
   "file_extension": ".py",
   "mimetype": "text/x-python",
   "name": "python",
   "nbconvert_exporter": "python",
   "pygments_lexer": "ipython3",
   "version": "3.6.7"
  }
 },
 "nbformat": 4,
 "nbformat_minor": 2
}
